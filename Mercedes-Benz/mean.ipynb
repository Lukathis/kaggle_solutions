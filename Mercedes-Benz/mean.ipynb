{
 "cells": [
  {
   "cell_type": "code",
   "execution_count": 1,
   "metadata": {
    "collapsed": true
   },
   "outputs": [],
   "source": [
    "import pandas as pd"
   ]
  },
  {
   "cell_type": "code",
   "execution_count": 11,
   "metadata": {},
   "outputs": [
    {
     "name": "stdout",
     "output_type": "stream",
     "text": [
      "0        80.042945\n",
      "1        98.389302\n",
      "2        79.371363\n",
      "3        78.755059\n",
      "4       118.339713\n",
      "5        94.901982\n",
      "6       112.881467\n",
      "7        95.109330\n",
      "8       116.179122\n",
      "9        95.222590\n",
      "10      115.835517\n",
      "11      104.310833\n",
      "12       97.601857\n",
      "13       95.531063\n",
      "14      104.916955\n",
      "15       99.252469\n",
      "16      116.244436\n",
      "17       97.591761\n",
      "18       96.510195\n",
      "19       94.326057\n",
      "20       95.930061\n",
      "21       95.930061\n",
      "22       93.862565\n",
      "23       95.907498\n",
      "24       93.756199\n",
      "25      116.144809\n",
      "26      103.218952\n",
      "27      103.851245\n",
      "28       94.039689\n",
      "29       79.357767\n",
      "           ...    \n",
      "4179    110.268517\n",
      "4180    102.816936\n",
      "4181     94.053547\n",
      "4182     92.947791\n",
      "4183    102.702088\n",
      "4184    110.268286\n",
      "4185     92.662016\n",
      "4186     93.855127\n",
      "4187    110.797307\n",
      "4188    110.461610\n",
      "4189     93.659324\n",
      "4190    111.934373\n",
      "4191     92.613706\n",
      "4192    102.491998\n",
      "4193     92.872330\n",
      "4194    110.877559\n",
      "4195     93.463365\n",
      "4196    104.741831\n",
      "4197    102.080404\n",
      "4198    111.809637\n",
      "4199     92.236813\n",
      "4200     91.864081\n",
      "4201     94.014818\n",
      "4202    111.934773\n",
      "4203    109.910936\n",
      "4204    104.584642\n",
      "4205     93.515150\n",
      "4206     93.601358\n",
      "4207    110.490515\n",
      "4208     92.933657\n",
      "Name: y, Length: 4209, dtype: float64\n"
     ]
    }
   ],
   "source": [
    "ensemble = pd.read_csv('./result/ensemble1.csv')\n",
    "xgb1 = pd.read_csv('./result/xgboost-depth4-pca-r2=0.6319784119767479.csv')\n",
    "xgb2 = pd.read_csv('./result/xgboost-depth6-pca-r2=0.7045571067568472.csv')\n",
    "\n",
    "y_ensemble = ensemble['y']\n",
    "y_xgb1 = xgb1['y']\n",
    "y_xgb2 = xgb2['y']\n",
    "\n",
    "y_mean = (y_ensemble + y_xgb1 + y_xgb2) / 3\n",
    "print(y_mean)"
   ]
  },
  {
   "cell_type": "code",
   "execution_count": 12,
   "metadata": {
    "collapsed": true
   },
   "outputs": [],
   "source": [
    "output = pd.DataFrame({'id': ensemble[\"id\"], 'y': y_mean})\n",
    "output.to_csv('./result/mean2.csv', index=False)"
   ]
  },
  {
   "cell_type": "code",
   "execution_count": null,
   "metadata": {
    "collapsed": true
   },
   "outputs": [],
   "source": []
  }
 ],
 "metadata": {
  "kernelspec": {
   "display_name": "Python 3",
   "language": "python",
   "name": "python3"
  },
  "language_info": {
   "codemirror_mode": {
    "name": "ipython",
    "version": 3
   },
   "file_extension": ".py",
   "mimetype": "text/x-python",
   "name": "python",
   "nbconvert_exporter": "python",
   "pygments_lexer": "ipython3",
   "version": "3.4.3"
  }
 },
 "nbformat": 4,
 "nbformat_minor": 2
}
