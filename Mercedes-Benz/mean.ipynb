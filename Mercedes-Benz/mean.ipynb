{
 "cells": [
  {
   "cell_type": "code",
   "execution_count": 1,
   "metadata": {
    "collapsed": true
   },
   "outputs": [],
   "source": [
    "import pandas as pd"
   ]
  },
  {
   "cell_type": "code",
   "execution_count": 9,
   "metadata": {},
   "outputs": [
    {
     "name": "stdout",
     "output_type": "stream",
     "text": [
      "0        82.042945\n",
      "1       100.389302\n",
      "2        81.371363\n",
      "3        80.755059\n",
      "4       120.339713\n",
      "5        96.901982\n",
      "6       114.881467\n",
      "7        97.109330\n",
      "8       118.179122\n",
      "9        97.222590\n",
      "10      117.835517\n",
      "11      106.310833\n",
      "12       99.601857\n",
      "13       97.531063\n",
      "14      106.916955\n",
      "15      101.252469\n",
      "16      118.244436\n",
      "17       99.591761\n",
      "18       98.510195\n",
      "19       96.326057\n",
      "20       97.930061\n",
      "21       97.930061\n",
      "22       95.862565\n",
      "23       97.907498\n",
      "24       95.756199\n",
      "25      118.144809\n",
      "26      105.218952\n",
      "27      105.851245\n",
      "28       96.039689\n",
      "29       81.357767\n",
      "           ...    \n",
      "4179    112.268517\n",
      "4180    104.816936\n",
      "4181     96.053547\n",
      "4182     94.947791\n",
      "4183    104.702088\n",
      "4184    112.268286\n",
      "4185     94.662016\n",
      "4186     95.855127\n",
      "4187    112.797307\n",
      "4188    112.461610\n",
      "4189     95.659324\n",
      "4190    113.934373\n",
      "4191     94.613706\n",
      "4192    104.491998\n",
      "4193     94.872330\n",
      "4194    112.877559\n",
      "4195     95.463365\n",
      "4196    106.741831\n",
      "4197    104.080404\n",
      "4198    113.809637\n",
      "4199     94.236813\n",
      "4200     93.864081\n",
      "4201     96.014818\n",
      "4202    113.934773\n",
      "4203    111.910936\n",
      "4204    106.584642\n",
      "4205     95.515150\n",
      "4206     95.601358\n",
      "4207    112.490515\n",
      "4208     94.933657\n",
      "Name: y, Length: 4209, dtype: float64\n"
     ]
    }
   ],
   "source": [
    "ensemble = pd.read_csv('./result/ensemble1.csv')\n",
    "xgb1 = pd.read_csv('./result/xgboost-depth4-pca-r2=0.6319784119767479.csv')\n",
    "xgb2 = pd.read_csv('./result/xgboost-depth6-pca-r2=0.7045571067568472.csv')\n",
    "\n",
    "y_ensemble = ensemble['y']\n",
    "y_xgb1 = xgb1['y']\n",
    "y_xgb2 = xgb2['y']\n",
    "\n",
    "y_mean = (y_ensemble + y_xgb1 + y_xgb2) / 3 + 2\n",
    "print(y_mean)"
   ]
  },
  {
   "cell_type": "code",
   "execution_count": 10,
   "metadata": {
    "collapsed": true
   },
   "outputs": [],
   "source": [
    "output = pd.DataFrame({'id': ensemble[\"id\"], 'y': y_mean})\n",
    "output.to_csv('./result/mean2.csv', index=False)"
   ]
  },
  {
   "cell_type": "code",
   "execution_count": null,
   "metadata": {
    "collapsed": true
   },
   "outputs": [],
   "source": []
  }
 ],
 "metadata": {
  "kernelspec": {
   "display_name": "Python 3",
   "language": "python",
   "name": "python3"
  },
  "language_info": {
   "codemirror_mode": {
    "name": "ipython",
    "version": 3
   },
   "file_extension": ".py",
   "mimetype": "text/x-python",
   "name": "python",
   "nbconvert_exporter": "python",
   "pygments_lexer": "ipython3",
   "version": "3.4.3"
  }
 },
 "nbformat": 4,
 "nbformat_minor": 2
}
